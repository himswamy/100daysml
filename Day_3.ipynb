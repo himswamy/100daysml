{
 "cells": [
  {
   "cell_type": "code",
   "execution_count": 1,
   "metadata": {},
   "outputs": [],
   "source": [
    "# single-number\n",
    "\n",
    "import operator\n",
    "from functools import reduce\n",
    "import collections"
   ]
  },
  {
   "cell_type": "code",
   "execution_count": 1,
   "metadata": {},
   "outputs": [],
   "source": [
    "# sum-of-two-integers\n",
    "\n",
    "def getSum2(self, a, b):\n",
    "        \"\"\"\n",
    "        :type a: int\n",
    "        :type b: int\n",
    "        :rtype: int\n",
    "        \"\"\"\n",
    "        # 32 bits integer max\n",
    "        MAX = 0x7FFFFFFF\n",
    "        # 32 bits interger min\n",
    "        MIN = 0x80000000\n",
    "        # mask to get last 32 bits\n",
    "        mask = 0xFFFFFFFF\n",
    "        while b:\n",
    "            # ^ get different bits and & gets double 1s, << moves carry\n",
    "            a, b = (a ^ b) & mask, ((a & b) << 1) & mask\n",
    "        # if a is negative, get a's 32 bits complement positive first\n",
    "        # then get 32-bit positive's Python complement negative\n",
    "        return a if a <= MAX else ~(a ^ mask)"
   ]
  },
  {
   "cell_type": "code",
   "execution_count": 2,
   "metadata": {},
   "outputs": [],
   "source": [
    "## find-the-difference\n",
    "\n",
    "def findTheDifference3(self, s, t):\n",
    "        return chr(reduce(operator.xor, map(ord, s + t)))"
   ]
  },
  {
   "cell_type": "code",
   "execution_count": 5,
   "metadata": {},
   "outputs": [],
   "source": [
    "# utf-8-validation\n",
    "\n",
    "class Solution(object):\n",
    "    def validUtf8(self, data):\n",
    "        \"\"\"\n",
    "        :type data: List[int]\n",
    "        :rtype: bool\n",
    "        \"\"\"\n",
    "        count = 0\n",
    "        for c in data:\n",
    "            if count == 0:\n",
    "                if (c >> 5) == 0b110:\n",
    "                    count = 1\n",
    "                elif (c >> 4) == 0b1110:\n",
    "                    count = 2\n",
    "                elif (c >> 3) == 0b11110:\n",
    "                    count = 3\n",
    "                elif (c >> 7):\n",
    "                    return False\n",
    "            else:\n",
    "                if (c >> 6) != 0b10:\n",
    "                    return False\n",
    "                count -= 1\n",
    "                return count == 0"
   ]
  },
  {
   "cell_type": "code",
   "execution_count": 6,
   "metadata": {},
   "outputs": [],
   "source": [
    "# binary-watch\n",
    "\n",
    "def readBinaryWatch2(self, num):\n",
    "        \"\"\"\n",
    "        :type num: int\n",
    "        :rtype: List[str]\n",
    "        \"\"\"\n",
    "        return ['{0}:{1}'.format(str(h), str(m).zfill(2))\n",
    "                for h in range(12) for m in range(60)\n",
    "                if (bin(h) + bin(m)).count('1') == num]"
   ]
  },
  {
   "cell_type": "code",
   "execution_count": 7,
   "metadata": {},
   "outputs": [],
   "source": [
    "## maximum-xor-of-two-numbers-in-an-array\n",
    "\n",
    "class Solution(object):\n",
    "    def findMaximumXOR(self, nums):\n",
    "        \"\"\"\n",
    "        :type nums: List[int]\n",
    "        :rtype: int\n",
    "        \"\"\"\n",
    "        result = 0\n",
    "\n",
    "        for i in reversed(xrange(32)):\n",
    "            result <<= 1\n",
    "            prefixes = set()\n",
    "            for n in nums:\n",
    "                prefixes.add(n >> i)\n",
    "            for p in prefixes:\n",
    "                if (result | 1) ^ p in prefixes:\n",
    "                    result += 1\n",
    "                    break\n",
    "\n",
    "        return result"
   ]
  },
  {
   "cell_type": "code",
   "execution_count": 8,
   "metadata": {},
   "outputs": [],
   "source": [
    "## hamming-distance\n",
    "\n",
    "def hammingDistance2(self, x, y):\n",
    "        \"\"\"\n",
    "        :type x: int\n",
    "        :type y: int\n",
    "        :rtype: int\n",
    "        \"\"\"\n",
    "        return bin(x ^ y).count('1')"
   ]
  },
  {
   "cell_type": "code",
   "execution_count": 9,
   "metadata": {},
   "outputs": [],
   "source": [
    "## total-hamming-distance\n",
    "\n",
    "class Solution(object):\n",
    "    def totalHammingDistance(self, nums):\n",
    "        \"\"\"\n",
    "        :type nums: List[int]\n",
    "        :rtype: int\n",
    "        \"\"\"\n",
    "        result = 0\n",
    "        for i in xrange(32):\n",
    "            counts = [0] * 2\n",
    "            for num in nums:\n",
    "                counts[(num >> i) & 1] += 1\n",
    "            result += counts[0] * counts[1]\n",
    "        return result"
   ]
  },
  {
   "cell_type": "code",
   "execution_count": 10,
   "metadata": {},
   "outputs": [],
   "source": [
    "## set-mismatch\n",
    "\n",
    "class Solution3(object):\n",
    "    def findErrorNums(self, nums):\n",
    "        \"\"\"\n",
    "        :type nums: List[int]\n",
    "        :rtype: List[int]\n",
    "        \"\"\"\n",
    "        N = len(nums)\n",
    "        x_minus_y = sum(nums) - N*(N+1)//2\n",
    "        x_plus_y = (sum(x*x for x in nums) - N*(N+1)*(2*N+1)/6) // x_minus_y\n",
    "        return (x_plus_y+x_minus_y) // 2, (x_plus_y-x_minus_y) // 2"
   ]
  },
  {
   "cell_type": "code",
   "execution_count": null,
   "metadata": {},
   "outputs": [],
   "source": []
  }
 ],
 "metadata": {
  "kernelspec": {
   "display_name": "Python 3",
   "language": "python",
   "name": "python3"
  },
  "language_info": {
   "codemirror_mode": {
    "name": "ipython",
    "version": 3
   },
   "file_extension": ".py",
   "mimetype": "text/x-python",
   "name": "python",
   "nbconvert_exporter": "python",
   "pygments_lexer": "ipython3",
   "version": "3.7.7"
  }
 },
 "nbformat": 4,
 "nbformat_minor": 4
}
