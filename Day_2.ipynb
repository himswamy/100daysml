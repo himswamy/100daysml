{
 "cells": [
  {
   "cell_type": "code",
   "execution_count": 1,
   "metadata": {},
   "outputs": [],
   "source": [
    "# single-number\n",
    "\n",
    "import operator\n",
    "from functools import reduce\n",
    "import collections"
   ]
  },
  {
   "cell_type": "code",
   "execution_count": 4,
   "metadata": {},
   "outputs": [],
   "source": [
    "\n",
    "class Solution(object):\n",
    "    \"\"\"\n",
    "    :type nums: List[int]\n",
    "    :rtype: int\n",
    "    \"\"\"\n",
    "    def singleNumber(self, A):\n",
    "        return reduce(operator.xor, A)\n",
    "\n",
    "\n",
    "class Solution3(object):\n",
    "    def singleNumber(self, nums):\n",
    "        \"\"\"\n",
    "        :type nums: List[int]\n",
    "        :rtype: int\n",
    "        \"\"\"\n",
    "        return (collections.Counter(list(set(nums)) * 3) - collections.Counter(nums)).keys()[0]\n",
    "\n",
    "\n",
    "class Solution4(object):\n",
    "    def singleNumber(self, nums):\n",
    "        \"\"\"\n",
    "        :type nums: List[int]\n",
    "        :rtype: int\n",
    "        \"\"\"\n",
    "        return (sum(set(nums)) * 3 - sum(nums)) / 2\n",
    "\n",
    "\n",
    "#  every element appears 4 times except for one with 2 times\n",
    "class SolutionEX(object):\n",
    "    # @param A, a list of integer\n",
    "    # @return an integer\n",
    "    # [1, 1, 1, 1, 2, 2, 2, 2, 3, 3]\n",
    "    def singleNumber(self, A):\n",
    "        one, two, three = 0, 0, 0\n",
    "        for x in A:\n",
    "            one, two, three = (~x & one) | (x & ~one & ~two & ~three), (~x & two) | (x & one), (~x & three) | (x & two)\n",
    "        return two\n",
    "\n",
    "##reverse-bits.py    \n",
    "    \n",
    "\n",
    "\n",
    "class Solution2(object):\n",
    "    # @param n, an integer\n",
    "    # @return an integer\n",
    "    def reverseBits(self, n):\n",
    "        result = 0\n",
    "        for i in xrange(32):\n",
    "            result <<= 1\n",
    "            result |= n & 1\n",
    "            n >>= 1\n",
    "        return result"
   ]
  },
  {
   "cell_type": "code",
   "execution_count": 5,
   "metadata": {},
   "outputs": [],
   "source": [
    "## power-of-two\n",
    "\n",
    "class Solution(object):\n",
    "    # @param {integer} n\n",
    "    # @return {boolean}\n",
    "    def isPowerOfTwo(self, n):\n",
    "        return n > 0 and (n & (n - 1)) == 0\n"
   ]
  },
  {
   "cell_type": "code",
   "execution_count": null,
   "metadata": {},
   "outputs": [],
   "source": [
    "class Solution(object):\n",
    "    # @param {integer[]} nums\n",
    "    # @return {integer[]}\n",
    "    def singleNumber(self, nums):\n",
    "        x_xor_y = reduce(operator.xor, nums)\n",
    "        bit =  x_xor_y & -x_xor_y\n",
    "        result = [0, 0]\n",
    "        for i in nums:\n",
    "            result[bool(i & bit)] ^= i\n",
    "        return result"
   ]
  },
  {
   "cell_type": "code",
   "execution_count": null,
   "metadata": {},
   "outputs": [],
   "source": [
    "# missing-number\n",
    "\n",
    "class Solution2(object):\n",
    "    def missingNumber(self, nums):\n",
    "        return sum(xrange(len(nums)+1)) - sum(nums)"
   ]
  },
  {
   "cell_type": "code",
   "execution_count": 6,
   "metadata": {},
   "outputs": [],
   "source": [
    "# maximum-product-of-word-lengths\n",
    "\n",
    "class Solution2(object):\n",
    "    def maxProduct(self, words):\n",
    "        \"\"\"\n",
    "        :type words: List[str]\n",
    "        :rtype: int\n",
    "        \"\"\"\n",
    "        words.sort(key=lambda x: len(x), reverse=True)\n",
    "        bits = [0] * len(words)\n",
    "        for i, word in enumerate(words):\n",
    "            for c in word:\n",
    "                bits[i] |= (1 << (ord(c) - ord('a')))\n",
    "\n",
    "        max_product = 0\n",
    "        for i in xrange(len(words) - 1):\n",
    "            if len(words[i]) ** 2 <= max_product:\n",
    "                break\n",
    "            for j in xrange(i + 1, len(words)):\n",
    "                if len(words[i]) * len(words[j]) <= max_product:\n",
    "                    break\n",
    "                if not (bits[i] & bits[j]):\n",
    "                    max_product = len(words[i]) * len(words[j])\n",
    "        return max_product"
   ]
  },
  {
   "cell_type": "code",
   "execution_count": 7,
   "metadata": {},
   "outputs": [],
   "source": [
    "# power-of-four\n",
    "\n",
    "class Solution2(object):\n",
    "    def isPowerOfFour(self, num):\n",
    "        \"\"\"\n",
    "        :type num: int\n",
    "        :rtype: bool\n",
    "        \"\"\"\n",
    "        while num and not (num & 0b11):\n",
    "            num >>= 2\n",
    "        return (num == 1)"
   ]
  },
  {
   "cell_type": "code",
   "execution_count": null,
   "metadata": {},
   "outputs": [],
   "source": []
  }
 ],
 "metadata": {
  "kernelspec": {
   "display_name": "Python 3",
   "language": "python",
   "name": "python3"
  },
  "language_info": {
   "codemirror_mode": {
    "name": "ipython",
    "version": 3
   },
   "file_extension": ".py",
   "mimetype": "text/x-python",
   "name": "python",
   "nbconvert_exporter": "python",
   "pygments_lexer": "ipython3",
   "version": "3.7.7"
  }
 },
 "nbformat": 4,
 "nbformat_minor": 4
}
