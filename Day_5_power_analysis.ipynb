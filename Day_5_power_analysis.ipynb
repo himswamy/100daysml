{
 "cells": [
  {
   "cell_type": "markdown",
   "metadata": {},
   "source": [
    "##### https://www.hackdeploy.com/learn-what-is-statistical-power-with-python/"
   ]
  },
  {
   "cell_type": "code",
   "execution_count": 37,
   "metadata": {},
   "outputs": [],
   "source": [
    "import numpy as np\n",
    "\n",
    "#function to calculate the pooled standard deviation of 2 samples\n",
    "def pooled_standard_deviation(sample1,sample2):\n",
    "    #calculate the sample size\n",
    "    n1, n2 = len(sample1), len(sample2)\n",
    "    #calculate the variances\n",
    "    var1, var2 = np.var(sample1, ddof=1), np.var(sample2, ddof=1)\n",
    "    #calculate the pooled standard deviation\n",
    "    numerator = ((n1-1) * var1) + ((n2-1) * var2)\n",
    "    denominator = n1+n2-2\n",
    "    return np.sqrt(numerator/denominator)"
   ]
  },
  {
   "cell_type": "code",
   "execution_count": 38,
   "metadata": {},
   "outputs": [],
   "source": [
    "# function to calculate Cohen's d for independent samples\n",
    "def Cohens_d(sample1, sample2):\n",
    "    u1, u2 = np.mean(sample1), np.mean(sample2)\n",
    "    s_pooled = pooled_standard_deviation(sample1, sample2)\n",
    "    #print(s_pooled)\n",
    "    return ((u1 - u2) / s_pooled)"
   ]
  },
  {
   "cell_type": "code",
   "execution_count": 39,
   "metadata": {},
   "outputs": [],
   "source": [
    "import random\n",
    "random.seed(20) #for results to be recreated\n",
    "N = 10 #number of samples to take from each population\n",
    "sample1 = [random.gauss(70,20) for x in range(N)] #take N samples from population A\n",
    "sample2 = [random.gauss(40,20) for x in range(N)] #take N samples from population B"
   ]
  },
  {
   "cell_type": "code",
   "execution_count": 40,
   "metadata": {},
   "outputs": [
    {
     "data": {
      "image/png": "[encoded data removed]",
      "text/plain": [
       "<Figure size 432x288 with 1 Axes>"
      ]
     },
     "metadata": {
      "needs_background": "light"
     },
     "output_type": "display_data"
    }
   ],
   "source": [
    "import seaborn as sns\n",
    "import matplotlib.pyplot as plt\n",
    "sns.kdeplot(sample1, shade=True)\n",
    "sns.kdeplot(sample2, shade=True)\n",
    "plt.title(\"Distributions of Sample1 and Sample2\")\n",
    "plt.show()"
   ]
  },
  {
   "cell_type": "markdown",
   "metadata": {},
   "source": [
    "##### we run an Independent Sample T-Test at 95% confidence. If the P-Value is less than 0.05 we reject the Null hypothesis that both samples have the same mean."
   ]
  },
  {
   "cell_type": "code",
   "execution_count": 41,
   "metadata": {},
   "outputs": [
    {
     "name": "stdout",
     "output_type": "stream",
     "text": [
      "P-Value:0.036761975607841495 T-Statistic:2.25584978775628\n"
     ]
    }
   ],
   "source": [
    "from scipy import stats\n",
    "#from statsmodels.stats.power import TTestIndPower\n",
    "\n",
    "tStat, pValue = stats.ttest_ind(sample1, sample2, equal_var = False) #run independent sample T-Test\n",
    "print(\"P-Value:{0} T-Statistic:{1}\".format(pValue,tStat)) #print the P-Value and the T-Statistic\n",
    "###P-Value:0.03676197560784152 T-Statistic:2.2558497877562798"
   ]
  },
  {
   "cell_type": "markdown",
   "metadata": {},
   "source": [
    "### In the below code snippet, the function returns the sample size required to achieve a power of 80%"
   ]
  },
  {
   "cell_type": "code",
   "execution_count": 42,
   "metadata": {},
   "outputs": [
    {
     "name": "stdout",
     "output_type": "stream",
     "text": [
      "Effect size is 1.0088466944903032\n",
      "Sample Size: 16.442\n"
     ]
    }
   ],
   "source": [
    "from statsmodels.stats.power import TTestIndPower\n",
    "\n",
    "# parameters for power analysis\n",
    "effect_size = Cohens_d(sample1,sample2)\n",
    "alpha = 0.05\n",
    "power = 0.8\n",
    "ratio_ =1\n",
    "\n",
    "print('Effect size is {0}'.format(effect_size))\n",
    "\n",
    "analysis = TTestIndPower()\n",
    "sample_size = analysis.solve_power(effect_size, power=power, nobs1=None, ratio=ratio_, alpha=alpha)\n",
    "print('Sample Size: %.3f' % sample_size)\n",
    "###Sample Size: 16.442"
   ]
  },
  {
   "cell_type": "code",
   "execution_count": null,
   "metadata": {},
   "outputs": [],
   "source": []
  },
  {
   "cell_type": "code",
   "execution_count": null,
   "metadata": {},
   "outputs": [],
   "source": []
  },
  {
   "cell_type": "code",
   "execution_count": null,
   "metadata": {},
   "outputs": [],
   "source": []
  },
  {
   "cell_type": "code",
   "execution_count": null,
   "metadata": {},
   "outputs": [],
   "source": []
  },
  {
   "cell_type": "code",
   "execution_count": null,
   "metadata": {},
   "outputs": [],
   "source": []
  },
  {
   "cell_type": "code",
   "execution_count": null,
   "metadata": {},
   "outputs": [],
   "source": []
  }
 ],
 "metadata": {
  "kernelspec": {
   "display_name": "Python 3",
   "language": "python",
   "name": "python3"
  },
  "language_info": {
   "codemirror_mode": {
    "name": "ipython",
    "version": 3
   },
   "file_extension": ".py",
   "mimetype": "text/x-python",
   "name": "python",
   "nbconvert_exporter": "python",
   "pygments_lexer": "ipython3",
   "version": "3.7.7"
  }
 },
 "nbformat": 4,
 "nbformat_minor": 4
}
